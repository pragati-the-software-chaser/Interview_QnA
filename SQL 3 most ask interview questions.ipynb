{
 "cells": [
  {
   "cell_type": "code",
   "execution_count": 1,
   "id": "a2e565b0",
   "metadata": {},
   "outputs": [],
   "source": [
    "#pip install ipython-sql 1)Load the Extension, 2)Check SQL Cell\n",
    "%load_ext sql\n",
    "%sql sqlite://\n",
    "#%reload_ext sql"
   ]
  },
  {
   "cell_type": "markdown",
   "id": "7a599e65",
   "metadata": {},
   "source": [
    "Create Employees Table:"
   ]
  },
  {
   "cell_type": "code",
   "execution_count": 2,
   "id": "df3825db",
   "metadata": {},
   "outputs": [
    {
     "name": "stdout",
     "output_type": "stream",
     "text": [
      " * sqlite://\n",
      "Done.\n",
      "Done.\n"
     ]
    },
    {
     "data": {
      "text/plain": [
       "[]"
      ]
     },
     "execution_count": 2,
     "metadata": {},
     "output_type": "execute_result"
    }
   ],
   "source": [
    "%%sql\n",
    "DROP TABLE IF EXISTS Employees;\n",
    "\n",
    "\n",
    "CREATE TABLE Employees (\n",
    "    EmployeeID INT ,\n",
    "    FirstName VARCHAR(255),\n",
    "    LastName VARCHAR(255),\n",
    "    Salary INT,\n",
    "    CreditDate DATE\n",
    ");\n"
   ]
  },
  {
   "cell_type": "markdown",
   "id": "16457f37",
   "metadata": {},
   "source": [
    "Insert Sample Data into Employees Table:"
   ]
  },
  {
   "cell_type": "code",
   "execution_count": 3,
   "id": "e6c5f2af",
   "metadata": {},
   "outputs": [
    {
     "name": "stdout",
     "output_type": "stream",
     "text": [
      " * sqlite://\n",
      "6 rows affected.\n"
     ]
    },
    {
     "data": {
      "text/plain": [
       "[]"
      ]
     },
     "execution_count": 3,
     "metadata": {},
     "output_type": "execute_result"
    }
   ],
   "source": [
    "%%sql\n",
    "INSERT INTO Employees (EmployeeID, FirstName, LastName, Salary, CreditDate)\n",
    "VALUES (1, 'John', 'Doe', 50000,'2023-06-01'),\n",
    "       (2, 'Alice', 'Smith', 60000,'2023-06-20'),\n",
    "       (3, 'Bob', 'Johnson', 55000,'2023-07-01'),\n",
    "       (3, 'Bob', 'Johnson', 55000,'2023-07-01'),\n",
    "       (5, 'Eva', 'Brown', 65000,'2023-08-01'),\n",
    "       (6, 'Mike', 'Wilson', 70000,'2023-08-05');\n"
   ]
  },
  {
   "cell_type": "code",
   "execution_count": 8,
   "id": "dda03a94",
   "metadata": {},
   "outputs": [
    {
     "name": "stdout",
     "output_type": "stream",
     "text": [
      " * sqlite://\n",
      "Done.\n"
     ]
    },
    {
     "data": {
      "text/html": [
       "<table>\n",
       "    <thead>\n",
       "        <tr>\n",
       "            <th>EmployeeID</th>\n",
       "            <th>FirstName</th>\n",
       "            <th>LastName</th>\n",
       "            <th>Salary</th>\n",
       "            <th>CreditDate</th>\n",
       "        </tr>\n",
       "    </thead>\n",
       "    <tbody>\n",
       "        <tr>\n",
       "            <td>1</td>\n",
       "            <td>John</td>\n",
       "            <td>Doe</td>\n",
       "            <td>50000</td>\n",
       "            <td>2023-06-01</td>\n",
       "        </tr>\n",
       "        <tr>\n",
       "            <td>2</td>\n",
       "            <td>Alice</td>\n",
       "            <td>Smith</td>\n",
       "            <td>60000</td>\n",
       "            <td>2023-06-20</td>\n",
       "        </tr>\n",
       "        <tr>\n",
       "            <td>3</td>\n",
       "            <td>Bob</td>\n",
       "            <td>Johnson</td>\n",
       "            <td>55000</td>\n",
       "            <td>2023-07-01</td>\n",
       "        </tr>\n",
       "        <tr>\n",
       "            <td>3</td>\n",
       "            <td>Bob</td>\n",
       "            <td>Johnson</td>\n",
       "            <td>55000</td>\n",
       "            <td>2023-07-01</td>\n",
       "        </tr>\n",
       "        <tr>\n",
       "            <td>5</td>\n",
       "            <td>Eva</td>\n",
       "            <td>Brown</td>\n",
       "            <td>65000</td>\n",
       "            <td>2023-08-01</td>\n",
       "        </tr>\n",
       "        <tr>\n",
       "            <td>6</td>\n",
       "            <td>Mike</td>\n",
       "            <td>Wilson</td>\n",
       "            <td>70000</td>\n",
       "            <td>2023-08-05</td>\n",
       "        </tr>\n",
       "    </tbody>\n",
       "</table>"
      ],
      "text/plain": [
       "[(1, 'John', 'Doe', 50000, '2023-06-01'),\n",
       " (2, 'Alice', 'Smith', 60000, '2023-06-20'),\n",
       " (3, 'Bob', 'Johnson', 55000, '2023-07-01'),\n",
       " (3, 'Bob', 'Johnson', 55000, '2023-07-01'),\n",
       " (5, 'Eva', 'Brown', 65000, '2023-08-01'),\n",
       " (6, 'Mike', 'Wilson', 70000, '2023-08-05')]"
      ]
     },
     "execution_count": 8,
     "metadata": {},
     "output_type": "execute_result"
    }
   ],
   "source": [
    "%%sql\n",
    "SELECT *\n",
    "FROM Employees;"
   ]
  },
  {
   "cell_type": "markdown",
   "id": "34600e83",
   "metadata": {},
   "source": [
    "# 1.Find the 3th Highest Salary:"
   ]
  },
  {
   "cell_type": "markdown",
   "id": "1bd009b0",
   "metadata": {},
   "source": [
    "Using Limit and Offset"
   ]
  },
  {
   "cell_type": "code",
   "execution_count": 10,
   "id": "96fbf263",
   "metadata": {},
   "outputs": [
    {
     "name": "stdout",
     "output_type": "stream",
     "text": [
      " * sqlite://\n",
      "Done.\n"
     ]
    },
    {
     "data": {
      "text/html": [
       "<table>\n",
       "    <thead>\n",
       "        <tr>\n",
       "            <th>Salary</th>\n",
       "        </tr>\n",
       "    </thead>\n",
       "    <tbody>\n",
       "        <tr>\n",
       "            <td>60000</td>\n",
       "        </tr>\n",
       "    </tbody>\n",
       "</table>"
      ],
      "text/plain": [
       "[(60000,)]"
      ]
     },
     "execution_count": 10,
     "metadata": {},
     "output_type": "execute_result"
    }
   ],
   "source": [
    "%%sql\n",
    "\n",
    "SELECT DISTINCT Salary\n",
    "FROM Employees\n",
    "ORDER BY Salary DESC\n",
    "LIMIT 1 OFFSET 3 - 1;"
   ]
  },
  {
   "cell_type": "markdown",
   "id": "173e0926",
   "metadata": {},
   "source": [
    "Using ORDER BY"
   ]
  },
  {
   "cell_type": "code",
   "execution_count": 11,
   "id": "b05011e7",
   "metadata": {},
   "outputs": [
    {
     "name": "stdout",
     "output_type": "stream",
     "text": [
      " * sqlite://\n",
      "Done.\n"
     ]
    },
    {
     "data": {
      "text/html": [
       "<table>\n",
       "    <thead>\n",
       "        <tr>\n",
       "            <th>Salary</th>\n",
       "        </tr>\n",
       "    </thead>\n",
       "    <tbody>\n",
       "        <tr>\n",
       "            <td>60000</td>\n",
       "        </tr>\n",
       "    </tbody>\n",
       "</table>"
      ],
      "text/plain": [
       "[(60000,)]"
      ]
     },
     "execution_count": 11,
     "metadata": {},
     "output_type": "execute_result"
    }
   ],
   "source": [
    "%%sql\n",
    "\n",
    "SELECT Salary\n",
    "FROM Employees\n",
    "WHERE Salary IN (SELECT Salary FROM Employees ORDER BY Salary DESC LIMIT 3)\n",
    "ORDER BY Salary ASC\n",
    "LIMIT 1;"
   ]
  },
  {
   "cell_type": "markdown",
   "id": "ca05c684",
   "metadata": {},
   "source": [
    "Using Window function"
   ]
  },
  {
   "cell_type": "code",
   "execution_count": 12,
   "id": "25454475",
   "metadata": {},
   "outputs": [
    {
     "name": "stdout",
     "output_type": "stream",
     "text": [
      " * sqlite://\n",
      "Done.\n"
     ]
    },
    {
     "data": {
      "text/html": [
       "<table>\n",
       "    <thead>\n",
       "        <tr>\n",
       "            <th>Salary</th>\n",
       "        </tr>\n",
       "    </thead>\n",
       "    <tbody>\n",
       "        <tr>\n",
       "            <td>60000</td>\n",
       "        </tr>\n",
       "    </tbody>\n",
       "</table>"
      ],
      "text/plain": [
       "[(60000,)]"
      ]
     },
     "execution_count": 12,
     "metadata": {},
     "output_type": "execute_result"
    }
   ],
   "source": [
    "%%sql\n",
    "\n",
    "WITH RankedSalaries AS (\n",
    "    SELECT Salary, \n",
    "           RANK() OVER (ORDER BY Salary DESC) AS RankOfTheSalary\n",
    "    FROM Employees\n",
    ")\n",
    "SELECT Salary\n",
    "FROM RankedSalaries\n",
    "WHERE RankOfTheSalary = 3;"
   ]
  },
  {
   "cell_type": "markdown",
   "id": "24aa2976",
   "metadata": {},
   "source": [
    "# 2.Find Duplicate Rows:"
   ]
  },
  {
   "cell_type": "code",
   "execution_count": 13,
   "id": "e9997cfa",
   "metadata": {},
   "outputs": [
    {
     "name": "stdout",
     "output_type": "stream",
     "text": [
      " * sqlite://\n",
      "Done.\n"
     ]
    },
    {
     "data": {
      "text/html": [
       "<table>\n",
       "    <thead>\n",
       "        <tr>\n",
       "            <th>EmployeeID</th>\n",
       "            <th>COUNT(*)</th>\n",
       "        </tr>\n",
       "    </thead>\n",
       "    <tbody>\n",
       "        <tr>\n",
       "            <td>3</td>\n",
       "            <td>2</td>\n",
       "        </tr>\n",
       "    </tbody>\n",
       "</table>"
      ],
      "text/plain": [
       "[(3, 2)]"
      ]
     },
     "execution_count": 13,
     "metadata": {},
     "output_type": "execute_result"
    }
   ],
   "source": [
    "%%sql\n",
    "SELECT EmployeeID, COUNT(*)\n",
    "FROM Employees\n",
    "GROUP BY EmployeeID\n",
    "HAVING COUNT(*) > 1;"
   ]
  },
  {
   "cell_type": "code",
   "execution_count": 14,
   "id": "e2de7e28",
   "metadata": {},
   "outputs": [],
   "source": [
    "# Remove Duplicate Rows:"
   ]
  },
  {
   "cell_type": "markdown",
   "id": "8cd3f4ab",
   "metadata": {},
   "source": [
    "%%sql\n",
    "\n",
    "DELETE FROM Employees\n",
    "WHERE EmployeeID IN (\n",
    "    SELECT EmployeeID\n",
    "    FROM Employees\n",
    "    GROUP BY EmployeeID\n",
    "    HAVING COUNT(*) > 1\n",
    "    LIMIT 1\n",
    ");"
   ]
  },
  {
   "cell_type": "code",
   "execution_count": 17,
   "id": "3e42a2a0",
   "metadata": {},
   "outputs": [
    {
     "name": "stdout",
     "output_type": "stream",
     "text": [
      " * sqlite://\n",
      "Done.\n"
     ]
    },
    {
     "data": {
      "text/html": [
       "<table>\n",
       "    <thead>\n",
       "        <tr>\n",
       "            <th>EmployeeID</th>\n",
       "            <th>FirstName</th>\n",
       "            <th>LastName</th>\n",
       "            <th>Salary</th>\n",
       "            <th>CreditDate</th>\n",
       "        </tr>\n",
       "    </thead>\n",
       "    <tbody>\n",
       "        <tr>\n",
       "            <td>1</td>\n",
       "            <td>John</td>\n",
       "            <td>Doe</td>\n",
       "            <td>50000</td>\n",
       "            <td>2023-06-01</td>\n",
       "        </tr>\n",
       "        <tr>\n",
       "            <td>2</td>\n",
       "            <td>Alice</td>\n",
       "            <td>Smith</td>\n",
       "            <td>60000</td>\n",
       "            <td>2023-06-20</td>\n",
       "        </tr>\n",
       "        <tr>\n",
       "            <td>5</td>\n",
       "            <td>Eva</td>\n",
       "            <td>Brown</td>\n",
       "            <td>65000</td>\n",
       "            <td>2023-08-01</td>\n",
       "        </tr>\n",
       "        <tr>\n",
       "            <td>6</td>\n",
       "            <td>Mike</td>\n",
       "            <td>Wilson</td>\n",
       "            <td>70000</td>\n",
       "            <td>2023-08-05</td>\n",
       "        </tr>\n",
       "    </tbody>\n",
       "</table>"
      ],
      "text/plain": [
       "[(1, 'John', 'Doe', 50000, '2023-06-01'),\n",
       " (2, 'Alice', 'Smith', 60000, '2023-06-20'),\n",
       " (5, 'Eva', 'Brown', 65000, '2023-08-01'),\n",
       " (6, 'Mike', 'Wilson', 70000, '2023-08-05')]"
      ]
     },
     "execution_count": 17,
     "metadata": {},
     "output_type": "execute_result"
    }
   ],
   "source": [
    "%%sql\n",
    "SELECT * \n",
    "FROM Employees;"
   ]
  },
  {
   "cell_type": "markdown",
   "id": "64a09005",
   "metadata": {},
   "source": [
    "# 3.Calculate Cumulative Sum:"
   ]
  },
  {
   "cell_type": "code",
   "execution_count": 11,
   "id": "59e7e43a",
   "metadata": {},
   "outputs": [
    {
     "name": "stdout",
     "output_type": "stream",
     "text": [
      " * sqlite://\n",
      "Done.\n"
     ]
    },
    {
     "data": {
      "text/html": [
       "<table>\n",
       "    <thead>\n",
       "        <tr>\n",
       "            <th>EmployeeID</th>\n",
       "            <th>Salary</th>\n",
       "            <th>CumulativeSum</th>\n",
       "        </tr>\n",
       "    </thead>\n",
       "    <tbody>\n",
       "        <tr>\n",
       "            <td>1</td>\n",
       "            <td>50000</td>\n",
       "            <td>50000</td>\n",
       "        </tr>\n",
       "        <tr>\n",
       "            <td>2</td>\n",
       "            <td>60000</td>\n",
       "            <td>110000</td>\n",
       "        </tr>\n",
       "        <tr>\n",
       "            <td>5</td>\n",
       "            <td>65000</td>\n",
       "            <td>175000</td>\n",
       "        </tr>\n",
       "        <tr>\n",
       "            <td>6</td>\n",
       "            <td>70000</td>\n",
       "            <td>245000</td>\n",
       "        </tr>\n",
       "    </tbody>\n",
       "</table>"
      ],
      "text/plain": [
       "[(1, 50000, 50000), (2, 60000, 110000), (5, 65000, 175000), (6, 70000, 245000)]"
      ]
     },
     "execution_count": 11,
     "metadata": {},
     "output_type": "execute_result"
    }
   ],
   "source": [
    "%%sql\n",
    "\n",
    "SELECT EmployeeID, Salary, \n",
    "       SUM(Salary) OVER (ORDER BY EmployeeID) AS CumulativeSum\n",
    "FROM Employees;\n"
   ]
  }
 ],
 "metadata": {
  "kernelspec": {
   "display_name": "Python 3 (ipykernel)",
   "language": "python",
   "name": "python3"
  },
  "language_info": {
   "codemirror_mode": {
    "name": "ipython",
    "version": 3
   },
   "file_extension": ".py",
   "mimetype": "text/x-python",
   "name": "python",
   "nbconvert_exporter": "python",
   "pygments_lexer": "ipython3",
   "version": "3.9.7"
  }
 },
 "nbformat": 4,
 "nbformat_minor": 5
}
